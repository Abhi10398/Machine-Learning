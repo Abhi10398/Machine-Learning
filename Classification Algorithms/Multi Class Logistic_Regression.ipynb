{
  "nbformat": 4,
  "nbformat_minor": 0,
  "metadata": {
    "colab": {
      "name": "Logistic Regression.ipynb",
      "provenance": [],
      "collapsed_sections": []
    },
    "kernelspec": {
      "name": "python3",
      "display_name": "Python 3"
    }
  },
  "cells": [
    {
      "cell_type": "code",
      "metadata": {
        "colab": {
          "base_uri": "https://localhost:8080/",
          "height": 299
        },
        "id": "cRWwuYrDdVmd",
        "outputId": "97f81f12-5b49-49b4-ef20-dc06854a6d09"
      },
      "source": [
        "# logistic regression\r\n",
        "import numpy as np\r\n",
        "import matplotlib.pyplot as plt\r\n",
        "\r\n",
        "# insert your code here\r\n",
        "x1=np.linspace(0,0.6,100)\r\n",
        "x2=np.linspace(0.8,1.3,100)\r\n",
        "x=np.concatenate((x1,x2),axis=0)\r\n",
        "y1=np.zeros((100,))\r\n",
        "y2=np.ones((100,))\r\n",
        "y=np.concatenate((y1,y2),axis=0)\r\n",
        "print(x.shape,y.shape)\r\n",
        "plt.plot(x,y,\".\")"
      ],
      "execution_count": 1,
      "outputs": [
        {
          "output_type": "stream",
          "text": [
            "(200,) (200,)\n"
          ],
          "name": "stdout"
        },
        {
          "output_type": "execute_result",
          "data": {
            "text/plain": [
              "[<matplotlib.lines.Line2D at 0x7fe453fbaac8>]"
            ]
          },
          "metadata": {
            "tags": []
          },
          "execution_count": 1
        },
        {
          "output_type": "display_data",
          "data": {
            "image/png": "[encoded data removed]",
            "text/plain": [
              "<Figure size 432x288 with 1 Axes>"
            ]
          },
          "metadata": {
            "tags": [],
            "needs_background": "light"
          }
        }
      ]
    },
    {
      "cell_type": "code",
      "metadata": {
        "id": "0aZHqmjPdPZu"
      },
      "source": [
        "class logis_regression:\r\n",
        "  # Constructor\r\n",
        "  def __init__(self, name='reg'):\r\n",
        "    self.name = name  # Create an instance variable\r\n",
        "  \r\n",
        "  def logis(self,x,w_old):\r\n",
        "    # insert your code here\r\n",
        "    h=x.T @ w_old\r\n",
        "    y_pred=np.clip(1/(1+np.exp(-h)),10**-20,0.9999999)\r\n",
        "    op=y_pred\r\n",
        "\r\n",
        "    return op\r\n",
        "\r\n",
        "  def grad_update(self,w_old,lr,y,x):\r\n",
        "    h=x.T @ w_old\r\n",
        "    y_pred=np.clip(1/(1+np.exp(-h)),10**-20,0.9999999)\r\n",
        "    w=w_old-lr*(np.sum((y_pred-y)*(x.T),axis=0,keepdims=True)/len(y)).T\r\n",
        "    # insert your code here\r\n",
        "    return w\r\n",
        "\r\n",
        "  def error(self,w,y,x):\r\n",
        "    h=x.T @ w\r\n",
        "    y_pred=np.clip(1/(1+np.exp(-h)),10**-20,0.9999999)\r\n",
        "    return -np.sum(y*np.log(y_pred)+(1-y)*np.log(1-y_pred))/len(y)\r\n",
        "\r\n",
        "    # by Gradien descent\r\n",
        "  def Regression_grad_des(self,x,y,lr):\r\n",
        "    m,n=x.shape\r\n",
        "    w_prev=w=np.random.randn(m,1)\r\n",
        "    err=[]\r\n",
        "    for i in range(1000):\r\n",
        "      # insert your code here\r\n",
        "      err.append(self.error(w,y,x))\r\n",
        "      w=self.grad_update(w,lr,y,x)\r\n",
        "      dev=np.linalg.norm(w-w_prev)\r\n",
        "      w_prev=w\r\n",
        "      if dev<=10**(-20):\r\n",
        "        break\r\n",
        "    return w,err\r\n",
        "  def multiclass_log_regression(self,x_aug,y):\r\n",
        "    log_reg=logis_regression()\r\n",
        "    classes = int(max(y)+1)\r\n",
        "    Y_mod = np.zeros((len(y),classes))\r\n",
        "    Y_pred = np.zeros((len(y),classes))\r\n",
        "    W=[]\r\n",
        "    for c in range(classes):\r\n",
        "      Y_mod[:,c]= y==c\r\n",
        "      w_pred,err=log_reg.Regression_grad_des(x_aug,np.reshape(Y_mod[:,c],(len(y),1)),0.1)\r\n",
        "      W.append(np.reshape(w_pred,(len(w_pred))))\r\n",
        "    return np.array(W).T\r\n",
        "  def multiclass_label(self,x_aug,W):\r\n",
        "    return np.argmax(x_aug.T @ W,axis=1)\r\n",
        "    "
      ],
      "execution_count": 2,
      "outputs": []
    },
    {
      "cell_type": "code",
      "metadata": {
        "colab": {
          "base_uri": "https://localhost:8080/"
        },
        "id": "5fTJAvw_dcAK",
        "outputId": "5effc162-ae77-45fb-ceaa-1277eb82dcc5"
      },
      "source": [
        "# augmentation and data formating\r\n",
        "\r\n",
        "x=x[:,np.newaxis]\r\n",
        "y=y[:,np.newaxis]\r\n",
        "x_aug=np.concatenate((np.ones((1,x.shape[0])), x.T),axis=0)\r\n",
        "print(x_aug.shape,y.shape)\r\n",
        "\r\n"
      ],
      "execution_count": 3,
      "outputs": [
        {
          "output_type": "stream",
          "text": [
            "(2, 200) (200, 1)\n"
          ],
          "name": "stdout"
        }
      ]
    },
    {
      "cell_type": "code",
      "metadata": {
        "colab": {
          "base_uri": "https://localhost:8080/",
          "height": 316
        },
        "id": "HEPG3LdHdemd",
        "outputId": "db1b9436-f6c7-41be-fbef-626831451846"
      },
      "source": [
        "log_reg=logis_regression()\r\n",
        "w_pred,err=log_reg.Regression_grad_des(x_aug,y,0.1)\r\n",
        "print(w_pred)\r\n",
        "\r\n",
        "plt.plot(err)"
      ],
      "execution_count": 4,
      "outputs": [
        {
          "output_type": "stream",
          "text": [
            "[[-3.45359631]\n",
            " [ 5.30016774]]\n"
          ],
          "name": "stdout"
        },
        {
          "output_type": "execute_result",
          "data": {
            "text/plain": [
              "[<matplotlib.lines.Line2D at 0x7fe453b14eb8>]"
            ]
          },
          "metadata": {
            "tags": []
          },
          "execution_count": 4
        },
        {
          "output_type": "display_data",
          "data": {
            "image/png": "[encoded data removed]",
            "text/plain": [
              "<Figure size 432x288 with 1 Axes>"
            ]
          },
          "metadata": {
            "tags": [],
            "needs_background": "light"
          }
        }
      ]
    },
    {
      "cell_type": "code",
      "metadata": {
        "colab": {
          "base_uri": "https://localhost:8080/",
          "height": 282
        },
        "id": "CdZnJiuidinx",
        "outputId": "3ce74b38-ca48-4cb3-802e-ab3821136657"
      },
      "source": [
        "# output computation\r\n",
        "# insert your code here\r\n",
        "plt.plot(x1,np.zeros((x1).shape),'o',color='y')\r\n",
        "plt.plot(x2,np.ones((x2).shape),'x',color='r')\r\n",
        "h=x_aug.T @ w_pred\r\n",
        "y_pred=np.clip(1/(1+np.exp(-h)),10**-20,0.9999999)\r\n",
        "plt.scatter(x[:,0],y_pred,marker=\".\",c=y_pred>0.5)"
      ],
      "execution_count": 5,
      "outputs": [
        {
          "output_type": "execute_result",
          "data": {
            "text/plain": [
              "<matplotlib.collections.PathCollection at 0x7fe453a89e80>"
            ]
          },
          "metadata": {
            "tags": []
          },
          "execution_count": 5
        },
        {
          "output_type": "display_data",
          "data": {
            "image/png": "[encoded data removed]",
            "text/plain": [
              "<Figure size 432x288 with 1 Axes>"
            ]
          },
          "metadata": {
            "tags": [],
            "needs_background": "light"
          }
        }
      ]
    },
    {
      "cell_type": "markdown",
      "metadata": {
        "id": "9poZ8N56Z94R"
      },
      "source": [
        "## Classification of circularly separated data using logistic regression\n",
        "\n"
      ]
    },
    {
      "cell_type": "code",
      "metadata": {
        "id": "BB9LN7-QZ9Lb",
        "colab": {
          "base_uri": "https://localhost:8080/",
          "height": 605
        },
        "outputId": "e6028bb7-47e4-49d3-d9eb-c0827621c241"
      },
      "source": [
        "# Generating circularly separated data\n",
        "import numpy as np\n",
        "import matplotlib.pyplot as plt\n",
        "\n",
        "\n",
        "x1=np.linspace(-3,3,20)\n",
        "x2=np.linspace(-3,3,20)\n",
        "\n",
        "x11,x22=np.meshgrid(x1,x2)\n",
        "plt.plot(x11,x22,'.')\n"
      ],
      "execution_count": 6,
      "outputs": [
        {
          "output_type": "execute_result",
          "data": {
            "text/plain": [
              "[<matplotlib.lines.Line2D at 0x7fe453a082b0>,\n",
              " <matplotlib.lines.Line2D at 0x7fe453a08390>,\n",
              " <matplotlib.lines.Line2D at 0x7fe453a084e0>,\n",
              " <matplotlib.lines.Line2D at 0x7fe453a08630>,\n",
              " <matplotlib.lines.Line2D at 0x7fe453a08780>,\n",
              " <matplotlib.lines.Line2D at 0x7fe453a088d0>,\n",
              " <matplotlib.lines.Line2D at 0x7fe453a08a20>,\n",
              " <matplotlib.lines.Line2D at 0x7fe453a08b70>,\n",
              " <matplotlib.lines.Line2D at 0x7fe453a08cc0>,\n",
              " <matplotlib.lines.Line2D at 0x7fe453a08e10>,\n",
              " <matplotlib.lines.Line2D at 0x7fe453a5bcc0>,\n",
              " <matplotlib.lines.Line2D at 0x7fe453a100b8>,\n",
              " <matplotlib.lines.Line2D at 0x7fe453a10208>,\n",
              " <matplotlib.lines.Line2D at 0x7fe453a10358>,\n",
              " <matplotlib.lines.Line2D at 0x7fe453a104a8>,\n",
              " <matplotlib.lines.Line2D at 0x7fe453a105f8>,\n",
              " <matplotlib.lines.Line2D at 0x7fe453a10748>,\n",
              " <matplotlib.lines.Line2D at 0x7fe453a10898>,\n",
              " <matplotlib.lines.Line2D at 0x7fe453a109e8>,\n",
              " <matplotlib.lines.Line2D at 0x7fe453a10b38>]"
            ]
          },
          "metadata": {
            "tags": []
          },
          "execution_count": 6
        },
        {
          "output_type": "display_data",
          "data": {
            "image/png": "[encoded data removed]",
            "text/plain": [
              "<Figure size 432x288 with 1 Axes>"
            ]
          },
          "metadata": {
            "tags": [],
            "needs_background": "light"
          }
        }
      ]
    },
    {
      "cell_type": "markdown",
      "metadata": {
        "id": "UH3gwRKNbf34"
      },
      "source": [
        "1. Circularly separated data generation"
      ]
    },
    {
      "cell_type": "code",
      "metadata": {
        "id": "EP4mon7Rc80v",
        "colab": {
          "base_uri": "https://localhost:8080/",
          "height": 350
        },
        "outputId": "3450a229-08a7-429f-ed56-c7cdb342b291"
      },
      "source": [
        "x1=x11.flatten()\n",
        "x2=x22.flatten()\n",
        "\n",
        "x=np.concatenate((x1[:,np.newaxis],x2[:,np.newaxis]),axis=1) # to make matrix format\n",
        "print(x.shape)\n",
        "\n",
        "aind=np.where((x[:,0]**(2)+x[:,1]**(2))<=0.9)\n",
        "\n",
        "bind=np.where((x[:,0]**(2)+x[:,1]**(2))>=2.2)\n",
        "\n",
        "x1=x[aind[0],:]\n",
        "x2=x[bind[0],:]\n",
        "print(x1.shape)\n",
        "print(x2.shape)\n",
        "x=np.concatenate((x1,x2))\n",
        "print(x.shape)\n",
        "\n",
        "plt.plot(x[:,0],x[:,1],'.')"
      ],
      "execution_count": 7,
      "outputs": [
        {
          "output_type": "stream",
          "text": [
            "(400, 2)\n",
            "(32, 2)\n",
            "(332, 2)\n",
            "(364, 2)\n"
          ],
          "name": "stdout"
        },
        {
          "output_type": "execute_result",
          "data": {
            "text/plain": [
              "[<matplotlib.lines.Line2D at 0x7fe45392a390>]"
            ]
          },
          "metadata": {
            "tags": []
          },
          "execution_count": 7
        },
        {
          "output_type": "display_data",
          "data": {
            "image/png": "[encoded data removed]",
            "text/plain": [
              "<Figure size 432x288 with 1 Axes>"
            ]
          },
          "metadata": {
            "tags": [],
            "needs_background": "light"
          }
        }
      ]
    },
    {
      "cell_type": "markdown",
      "metadata": {
        "id": "ZBZR6c0JcnDm"
      },
      "source": [
        "As in case of circularly separated data, the boundary is nonlinear, so squred feature is taken."
      ]
    },
    {
      "cell_type": "code",
      "metadata": {
        "id": "OvI2_KIfhKsS",
        "colab": {
          "base_uri": "https://localhost:8080/",
          "height": 300
        },
        "outputId": "707996a5-f15d-44c7-abdd-463af9703fa0"
      },
      "source": [
        "# perform logistic regression\n",
        "\n",
        "y1=np.zeros((x1.shape[0]))\n",
        "y2=np.ones((x2.shape[0]))\n",
        "y=np.concatenate((y1,y2))\n",
        "\n",
        "x_aug= np.concatenate((np.ones((1,x.shape[0])),(x**2).T),axis=0)# insert your code here    # squring to learn circular separation\n",
        "print(x_aug.shape)\n",
        "\n",
        "log_reg=logis_regression()\n",
        "w_pred,err=log_reg.Regression_grad_des(x_aug,y[:,np.newaxis],0.1)\n",
        "plt.plot(err)\n"
      ],
      "execution_count": 8,
      "outputs": [
        {
          "output_type": "stream",
          "text": [
            "(3, 364)\n"
          ],
          "name": "stdout"
        },
        {
          "output_type": "execute_result",
          "data": {
            "text/plain": [
              "[<matplotlib.lines.Line2D at 0x7fe453919048>]"
            ]
          },
          "metadata": {
            "tags": []
          },
          "execution_count": 8
        },
        {
          "output_type": "display_data",
          "data": {
            "image/png": "[encoded data removed]",
            "text/plain": [
              "<Figure size 432x288 with 1 Axes>"
            ]
          },
          "metadata": {
            "tags": [],
            "needs_background": "light"
          }
        }
      ]
    },
    {
      "cell_type": "code",
      "metadata": {
        "id": "3b65To6rtIGN",
        "colab": {
          "base_uri": "https://localhost:8080/",
          "height": 282
        },
        "outputId": "a86b134a-8556-4be7-d0db-eb63655b2bb9"
      },
      "source": [
        "y_pred=log_reg.logis(x_aug,w_pred)\n",
        "\n",
        "# insert your code here\n",
        "ind1=np.where(y_pred<=0.5)\n",
        "ind2=np.where(y_pred>0.5)\n",
        "x00=x[ind1[0],:]\n",
        "x11=x[ind2[0],:]\n",
        "\n",
        "plt.figure()\n",
        "plt.plot(x00[:,0],x00[:,1],'x',color='y')\n",
        "plt.plot(x11[:,0],x11[:,1],'o',color='r')"
      ],
      "execution_count": 9,
      "outputs": [
        {
          "output_type": "execute_result",
          "data": {
            "text/plain": [
              "[<matplotlib.lines.Line2D at 0x7fe453977ba8>]"
            ]
          },
          "metadata": {
            "tags": []
          },
          "execution_count": 9
        },
        {
          "output_type": "display_data",
          "data": {
            "image/png": "[encoded data removed]",
            "text/plain": [
              "<Figure size 432x288 with 1 Axes>"
            ]
          },
          "metadata": {
            "tags": [],
            "needs_background": "light"
          }
        }
      ]
    },
    {
      "cell_type": "markdown",
      "metadata": {
        "id": "Lb-RLgsnC23C"
      },
      "source": [
        "## Multiclass logistic regression\n",
        "\n",
        "1. Generate 1D data with 3 classes\n"
      ]
    },
    {
      "cell_type": "markdown",
      "metadata": {
        "id": "GgonBFE8I2IL"
      },
      "source": [
        "### One vs rest classification\n",
        "\n",
        "1. lets take polynomial of order 2 (by seeing the data distribution)"
      ]
    },
    {
      "cell_type": "code",
      "metadata": {
        "id": "AcyM3i2N673z",
        "colab": {
          "base_uri": "https://localhost:8080/",
          "height": 299
        },
        "outputId": "be579286-6aa6-4311-d9b7-fa6408877bb4"
      },
      "source": [
        "import numpy as np\n",
        "import matplotlib.pyplot as plt\n",
        "\n",
        "x1=np.linspace(0,0.6,100)\n",
        "x2=np.linspace(1.1,2.7,100)\n",
        "x3=np.linspace(3.5,3.8,100)\n",
        "\n",
        "x=np.concatenate((x1,x2,x3))\n",
        "print(x.shape)\n",
        "\n",
        "y1=np.zeros(x1.shape)\n",
        "y2=np.ones(x2.shape)\n",
        "y3=np.tile([2],x3.shape) # works same as zeros and ones but with any number\n",
        "\n",
        "y=np.concatenate((y1,y2,y3))\n",
        "\n",
        "plt.figure()\n",
        "plt.plot(x,y,'.')\n"
      ],
      "execution_count": 10,
      "outputs": [
        {
          "output_type": "stream",
          "text": [
            "(300,)\n"
          ],
          "name": "stdout"
        },
        {
          "output_type": "execute_result",
          "data": {
            "text/plain": [
              "[<matplotlib.lines.Line2D at 0x7fe4537e1630>]"
            ]
          },
          "metadata": {
            "tags": []
          },
          "execution_count": 10
        },
        {
          "output_type": "display_data",
          "data": {
            "image/png": "[encoded data removed]",
            "text/plain": [
              "<Figure size 432x288 with 1 Axes>"
            ]
          },
          "metadata": {
            "tags": [],
            "needs_background": "light"
          }
        }
      ]
    },
    {
      "cell_type": "code",
      "metadata": {
        "id": "wBzA2n2eI1Oe"
      },
      "source": [
        "def data_transform(X,degree): \n",
        "  X_new=[]      \n",
        "  for i in range(degree +1):\n",
        "    X_new.append(X**i)              \n",
        "  X_new = np.concatenate(X_new)  \n",
        "  return X_new"
      ],
      "execution_count": 11,
      "outputs": []
    },
    {
      "cell_type": "code",
      "metadata": {
        "id": "EIO8_Rnrngkt",
        "colab": {
          "base_uri": "https://localhost:8080/"
        },
        "outputId": "8dbf3457-51c2-41a0-9335-e9bc128b33ab"
      },
      "source": [
        "x_aug=data_transform(x[np.newaxis,:],2)\n",
        "print(x_aug.shape) # also includes biased term coefficient 1"
      ],
      "execution_count": 12,
      "outputs": [
        {
          "output_type": "stream",
          "text": [
            "(3, 300)\n"
          ],
          "name": "stdout"
        }
      ]
    },
    {
      "cell_type": "code",
      "metadata": {
        "id": "3MPgINWrup_m"
      },
      "source": [
        "# plot for classification\n",
        "def plot_op(x,y_pred):\n",
        "  # insert your code here\n",
        "  ind0=np.where(y_pred<=0.5)[0]\n",
        "  ind1=np.where(y_pred>0.5)[0]\n",
        "\n",
        "  x0=x[ind0,:]\n",
        "  x1=x[ind1,:]\n",
        "\n",
        "\n",
        "  plt.plot(x0,np.zeros((x0).shape),'o',color='y')\n",
        "  plt.plot(x1,np.ones((x1).shape),'x',color='r')"
      ],
      "execution_count": 13,
      "outputs": []
    },
    {
      "cell_type": "code",
      "metadata": {
        "id": "efpGxlxvn8Bg",
        "colab": {
          "base_uri": "https://localhost:8080/",
          "height": 564
        },
        "outputId": "622cb0f1-b050-46ef-ffce-5d34c2b30a76"
      },
      "source": [
        "# take class 0 as '0' and other to '1'\n",
        "# insert your code here\n",
        "log_reg=logis_regression()\n",
        "y1_mod = y>=1\n",
        "w1_pred,err=log_reg.Regression_grad_des(x_aug,y1_mod[:,np.newaxis],0.1)\n",
        "\n",
        "plt.plot(err)\n",
        "print(w1_pred)\n",
        "\n",
        "\n",
        "# ploting\n",
        "plt.figure()\n",
        "plt.plot(x,y1_mod,'.')\n",
        "\n",
        "y1_pred=log_reg.logis(x_aug,w1_pred)\n",
        "plt.plot(x,y1_pred[:,0])\n",
        "plot_op(x[:,np.newaxis],y1_pred)\n",
        "\n"
      ],
      "execution_count": 14,
      "outputs": [
        {
          "output_type": "stream",
          "text": [
            "[[-3.46570447]\n",
            " [ 1.18098688]\n",
            " [ 2.5903604 ]]\n"
          ],
          "name": "stdout"
        },
        {
          "output_type": "display_data",
          "data": {
            "image/png": "[encoded data removed]",
            "text/plain": [
              "<Figure size 432x288 with 1 Axes>"
            ]
          },
          "metadata": {
            "tags": [],
            "needs_background": "light"
          }
        },
        {
          "output_type": "display_data",
          "data": {
            "image/png": "[encoded data removed]",
            "text/plain": [
              "<Figure size 432x288 with 1 Axes>"
            ]
          },
          "metadata": {
            "tags": [],
            "needs_background": "light"
          }
        }
      ]
    },
    {
      "cell_type": "code",
      "metadata": {
        "id": "m9bYJ1oZtSMq",
        "colab": {
          "base_uri": "https://localhost:8080/",
          "height": 564
        },
        "outputId": "c8b070fa-ee57-4142-9ecf-27d1fd01bd18"
      },
      "source": [
        "# take class 1 as '0' and other to '1'\n",
        "# insert your code here\n",
        "log_reg=logis_regression()\n",
        "y2_mod = np.logical_or(y==0,y==2)\n",
        "w2_pred,err=log_reg.Regression_grad_des(x_aug,y2_mod[:,np.newaxis],0.1)\n",
        "\n",
        "plt.plot(err)\n",
        "print(w2_pred)\n",
        "\n",
        "# ploting\n",
        "plt.figure()\n",
        "plt.plot(x,y2_mod,'.')\n",
        "\n",
        "y2_pred=log_reg.logis(x_aug,w2_pred)\n",
        "plt.plot(x,y2_pred[:,0])\n",
        "plot_op(x[:,np.newaxis],y2_pred)\n"
      ],
      "execution_count": 15,
      "outputs": [
        {
          "output_type": "stream",
          "text": [
            "[[ 2.93569863]\n",
            " [-5.09559908]\n",
            " [ 1.38865255]]\n"
          ],
          "name": "stdout"
        },
        {
          "output_type": "display_data",
          "data": {
            "image/png": "[encoded data removed]",
            "text/plain": [
              "<Figure size 432x288 with 1 Axes>"
            ]
          },
          "metadata": {
            "tags": [],
            "needs_background": "light"
          }
        },
        {
          "output_type": "display_data",
          "data": {
            "image/png": "[encoded data removed]",
            "text/plain": [
              "<Figure size 432x288 with 1 Axes>"
            ]
          },
          "metadata": {
            "tags": [],
            "needs_background": "light"
          }
        }
      ]
    },
    {
      "cell_type": "code",
      "metadata": {
        "id": "G-PQFKvktnFc",
        "colab": {
          "base_uri": "https://localhost:8080/",
          "height": 564
        },
        "outputId": "17c09c22-1159-4728-dc34-05c7fc6a67dc"
      },
      "source": [
        "# take class 2 as '0' and other to '1'\n",
        "# insert your code here\n",
        "log_reg=logis_regression()\n",
        "y3_mod = np.logical_or(y==0,y==1)\n",
        "w3_pred,err=log_reg.Regression_grad_des(x_aug,y3_mod[:,np.newaxis],0.1)\n",
        "\n",
        "plt.plot(err)\n",
        "print(w3_pred)\n",
        "\n",
        "# ploting\n",
        "plt.figure()\n",
        "plt.plot(x,y3_mod,'.')\n",
        "\n",
        "\n",
        "y3_pred=log_reg.logis(x_aug,w3_pred)\n",
        "plt.plot(x,y3_pred[:,0])\n",
        "\n",
        "plot_op(x[:,np.newaxis],y3_pred)"
      ],
      "execution_count": 16,
      "outputs": [
        {
          "output_type": "stream",
          "text": [
            "[[ 3.40650059]\n",
            " [ 3.46233385]\n",
            " [-1.5347801 ]]\n"
          ],
          "name": "stdout"
        },
        {
          "output_type": "display_data",
          "data": {
            "image/png": "[encoded data removed]",
            "text/plain": [
              "<Figure size 432x288 with 1 Axes>"
            ]
          },
          "metadata": {
            "tags": [],
            "needs_background": "light"
          }
        },
        {
          "output_type": "display_data",
          "data": {
            "image/png": "[encoded data removed]",
            "text/plain": [
              "<Figure size 432x288 with 1 Axes>"
            ]
          },
          "metadata": {
            "tags": [],
            "needs_background": "light"
          }
        }
      ]
    },
    {
      "cell_type": "code",
      "metadata": {
        "id": "_x6NWsEkxbjH",
        "colab": {
          "base_uri": "https://localhost:8080/",
          "height": 547
        },
        "outputId": "42100e3b-5321-46d1-cb7b-82dfaa688168"
      },
      "source": [
        "# final classification\n",
        "\n",
        "# insert your code here  # as '0' is taken as referance\n",
        "# insert your code here\n",
        "Y=np.concatenate((y1_pred,y2_pred,y3_pred),axis=-1)\n",
        "Y=np.argmin(Y,axis=1)\n",
        "# because 0 classifies the class from all other classes i.e 0,1,1 means class 0\n",
        "# 1,0,1 means class 1 and 1,1,0 means class 2\n",
        "print(Y.shape)\n",
        "plt.scatter(x,Y,c=Y)\n",
        "\n",
        "plt.figure()\n",
        "plt.plot(x1,np.zeros(x1.shape),'*',color='r')\n",
        "plt.plot(x2,np.ones(x2.shape),'x',color='y')\n",
        "plt.plot(x3,np.tile([2],x3.shape),'.',color='k')\n"
      ],
      "execution_count": 17,
      "outputs": [
        {
          "output_type": "stream",
          "text": [
            "(300,)\n"
          ],
          "name": "stdout"
        },
        {
          "output_type": "execute_result",
          "data": {
            "text/plain": [
              "[<matplotlib.lines.Line2D at 0x7fe45367d668>]"
            ]
          },
          "metadata": {
            "tags": []
          },
          "execution_count": 17
        },
        {
          "output_type": "display_data",
          "data": {
            "image/png": "[encoded data removed]",
            "text/plain": [
              "<Figure size 432x288 with 1 Axes>"
            ]
          },
          "metadata": {
            "tags": [],
            "needs_background": "light"
          }
        },
        {
          "output_type": "display_data",
          "data": {
            "image/png": "[encoded data removed]",
            "text/plain": [
              "<Figure size 432x288 with 1 Axes>"
            ]
          },
          "metadata": {
            "tags": [],
            "needs_background": "light"
          }
        }
      ]
    },
    {
      "cell_type": "code",
      "metadata": {
        "id": "BLmHzRO8lnWL"
      },
      "source": [
        "x_aug=data_transform(x[np.newaxis,:],2)\r\n",
        "log_reg=logis_regression()\r\n",
        "W = log_reg.multiclass_log_regression(x_aug,y) # (features x classes)"
      ],
      "execution_count": 18,
      "outputs": []
    },
    {
      "cell_type": "code",
      "metadata": {
        "colab": {
          "base_uri": "https://localhost:8080/",
          "height": 530
        },
        "id": "Y6N_aEGWxFgO",
        "outputId": "ff6b2cb8-9437-4e0d-dfb6-f5624067b344"
      },
      "source": [
        "# Testing\r\n",
        "\r\n",
        "x1=np.linspace(0,0.6,10)\r\n",
        "x2=np.linspace(1.1,2.7,10)\r\n",
        "x3=np.linspace(3.5,3.8,10)\r\n",
        "x=np.concatenate((x1,x2,x3))\r\n",
        "\r\n",
        "x_aug=data_transform(x[np.newaxis,:],2) # test data\r\n",
        "Y= log_reg.multiclass_label(x_aug,W)\r\n",
        "print(Y.shape)\r\n",
        "plt.scatter(x,Y,c=Y)\r\n",
        "\r\n",
        "plt.figure()\r\n",
        "plt.plot(x1,np.zeros(x1.shape),'*',color='r')\r\n",
        "plt.plot(x2,np.ones(x2.shape),'x',color='y')\r\n",
        "plt.plot(x3,np.tile([2],x3.shape),'.',color='k')\r\n",
        "plt.show()"
      ],
      "execution_count": 19,
      "outputs": [
        {
          "output_type": "stream",
          "text": [
            "(30,)\n"
          ],
          "name": "stdout"
        },
        {
          "output_type": "display_data",
          "data": {
            "image/png": "[encoded data removed]",
            "text/plain": [
              "<Figure size 432x288 with 1 Axes>"
            ]
          },
          "metadata": {
            "tags": [],
            "needs_background": "light"
          }
        },
        {
          "output_type": "display_data",
          "data": {
            "image/png": "[encoded data removed]",
            "text/plain": [
              "<Figure size 432x288 with 1 Axes>"
            ]
          },
          "metadata": {
            "tags": [],
            "needs_background": "light"
          }
        }
      ]
    }
  ]
}